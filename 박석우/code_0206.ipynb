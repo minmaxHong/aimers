{
 "cells": [
  {
   "cell_type": "markdown",
   "id": "017e9265",
   "metadata": {},
   "source": [
    "# 영업 성공 여부 분류 경진대회"
   ]
  },
  {
   "cell_type": "markdown",
   "id": "acdab431",
   "metadata": {},
   "source": [
    "## 1. 데이터 확인"
   ]
  },
  {
   "cell_type": "markdown",
   "id": "2b8341e8",
   "metadata": {},
   "source": [
    "### 필수 라이브러리"
   ]
  },
  {
   "cell_type": "code",
   "execution_count": 173,
   "id": "a315cc58",
   "metadata": {},
   "outputs": [],
   "source": [
    "import pandas as pd\n",
    "import numpy as np\n",
    "from sklearn.metrics import (\n",
    "    accuracy_score,\n",
    "    confusion_matrix,\n",
    "    f1_score,\n",
    "    precision_score,\n",
    "    recall_score,\n",
    ")\n",
    "from sklearn.model_selection import train_test_split\n",
    "from sklearn.tree import DecisionTreeClassifier"
   ]
  },
  {
   "cell_type": "markdown",
   "id": "412f98cc",
   "metadata": {},
   "source": [
    "### 데이터 셋 읽어오기"
   ]
  },
  {
   "cell_type": "code",
   "execution_count": 174,
   "id": "7ada941e",
   "metadata": {},
   "outputs": [],
   "source": [
    "df_train = pd.read_csv(\"train.csv\") # 학습용 데이터\n",
    "df_test = pd.read_csv(\"submission.csv\") # 테스트 데이터(제출파일의 데이터)"
   ]
  },
  {
   "cell_type": "code",
   "execution_count": 175,
   "id": "be9af12a",
   "metadata": {},
   "outputs": [
    {
     "data": {
      "text/html": [
       "<div>\n",
       "<style scoped>\n",
       "    .dataframe tbody tr th:only-of-type {\n",
       "        vertical-align: middle;\n",
       "    }\n",
       "\n",
       "    .dataframe tbody tr th {\n",
       "        vertical-align: top;\n",
       "    }\n",
       "\n",
       "    .dataframe thead th {\n",
       "        text-align: right;\n",
       "    }\n",
       "</style>\n",
       "<table border=\"1\" class=\"dataframe\">\n",
       "  <thead>\n",
       "    <tr style=\"text-align: right;\">\n",
       "      <th></th>\n",
       "      <th>bant_submit</th>\n",
       "      <th>customer_country</th>\n",
       "      <th>business_unit</th>\n",
       "      <th>com_reg_ver_win_rate</th>\n",
       "      <th>customer_idx</th>\n",
       "      <th>customer_type</th>\n",
       "      <th>enterprise</th>\n",
       "      <th>historical_existing_cnt</th>\n",
       "      <th>id_strategic_ver</th>\n",
       "      <th>it_strategic_ver</th>\n",
       "      <th>...</th>\n",
       "      <th>response_corporate</th>\n",
       "      <th>expected_timeline</th>\n",
       "      <th>ver_cus</th>\n",
       "      <th>ver_pro</th>\n",
       "      <th>ver_win_rate_x</th>\n",
       "      <th>ver_win_ratio_per_bu</th>\n",
       "      <th>business_area</th>\n",
       "      <th>business_subarea</th>\n",
       "      <th>lead_owner</th>\n",
       "      <th>is_converted</th>\n",
       "    </tr>\n",
       "  </thead>\n",
       "  <tbody>\n",
       "    <tr>\n",
       "      <th>0</th>\n",
       "      <td>1.0</td>\n",
       "      <td>/Quezon City/Philippines</td>\n",
       "      <td>AS</td>\n",
       "      <td>0.066667</td>\n",
       "      <td>32160</td>\n",
       "      <td>End-Customer</td>\n",
       "      <td>Enterprise</td>\n",
       "      <td>NaN</td>\n",
       "      <td>NaN</td>\n",
       "      <td>NaN</td>\n",
       "      <td>...</td>\n",
       "      <td>LGEPH</td>\n",
       "      <td>less than 3 months</td>\n",
       "      <td>1</td>\n",
       "      <td>0</td>\n",
       "      <td>0.003079</td>\n",
       "      <td>0.026846</td>\n",
       "      <td>corporate / office</td>\n",
       "      <td>Engineering</td>\n",
       "      <td>0</td>\n",
       "      <td>True</td>\n",
       "    </tr>\n",
       "    <tr>\n",
       "      <th>1</th>\n",
       "      <td>1.0</td>\n",
       "      <td>/PH-00/Philippines</td>\n",
       "      <td>AS</td>\n",
       "      <td>0.066667</td>\n",
       "      <td>23122</td>\n",
       "      <td>End-Customer</td>\n",
       "      <td>Enterprise</td>\n",
       "      <td>12.0</td>\n",
       "      <td>NaN</td>\n",
       "      <td>NaN</td>\n",
       "      <td>...</td>\n",
       "      <td>LGEPH</td>\n",
       "      <td>less than 3 months</td>\n",
       "      <td>1</td>\n",
       "      <td>0</td>\n",
       "      <td>0.003079</td>\n",
       "      <td>0.026846</td>\n",
       "      <td>corporate / office</td>\n",
       "      <td>Advertising</td>\n",
       "      <td>1</td>\n",
       "      <td>True</td>\n",
       "    </tr>\n",
       "    <tr>\n",
       "      <th>2</th>\n",
       "      <td>1.0</td>\n",
       "      <td>/Kolkata /India</td>\n",
       "      <td>AS</td>\n",
       "      <td>0.088889</td>\n",
       "      <td>1755</td>\n",
       "      <td>End-Customer</td>\n",
       "      <td>Enterprise</td>\n",
       "      <td>144.0</td>\n",
       "      <td>NaN</td>\n",
       "      <td>NaN</td>\n",
       "      <td>...</td>\n",
       "      <td>LGEIL</td>\n",
       "      <td>less than 3 months</td>\n",
       "      <td>1</td>\n",
       "      <td>0</td>\n",
       "      <td>0.003079</td>\n",
       "      <td>0.026846</td>\n",
       "      <td>corporate / office</td>\n",
       "      <td>Construction</td>\n",
       "      <td>2</td>\n",
       "      <td>True</td>\n",
       "    </tr>\n",
       "    <tr>\n",
       "      <th>3</th>\n",
       "      <td>1.0</td>\n",
       "      <td>/Bhubaneswar/India</td>\n",
       "      <td>AS</td>\n",
       "      <td>0.088889</td>\n",
       "      <td>4919</td>\n",
       "      <td>End-Customer</td>\n",
       "      <td>Enterprise</td>\n",
       "      <td>NaN</td>\n",
       "      <td>NaN</td>\n",
       "      <td>NaN</td>\n",
       "      <td>...</td>\n",
       "      <td>LGEIL</td>\n",
       "      <td>less than 3 months</td>\n",
       "      <td>1</td>\n",
       "      <td>0</td>\n",
       "      <td>0.003079</td>\n",
       "      <td>0.026846</td>\n",
       "      <td>corporate / office</td>\n",
       "      <td>IT/Software</td>\n",
       "      <td>3</td>\n",
       "      <td>True</td>\n",
       "    </tr>\n",
       "    <tr>\n",
       "      <th>4</th>\n",
       "      <td>1.0</td>\n",
       "      <td>/Hyderabad/India</td>\n",
       "      <td>AS</td>\n",
       "      <td>0.088889</td>\n",
       "      <td>17126</td>\n",
       "      <td>Specifier/ Influencer</td>\n",
       "      <td>Enterprise</td>\n",
       "      <td>NaN</td>\n",
       "      <td>NaN</td>\n",
       "      <td>NaN</td>\n",
       "      <td>...</td>\n",
       "      <td>LGEIL</td>\n",
       "      <td>less than 3 months</td>\n",
       "      <td>0</td>\n",
       "      <td>0</td>\n",
       "      <td>0.003079</td>\n",
       "      <td>0.026846</td>\n",
       "      <td>corporate / office</td>\n",
       "      <td>NaN</td>\n",
       "      <td>4</td>\n",
       "      <td>True</td>\n",
       "    </tr>\n",
       "  </tbody>\n",
       "</table>\n",
       "<p>5 rows × 29 columns</p>\n",
       "</div>"
      ],
      "text/plain": [
       "   bant_submit          customer_country business_unit  com_reg_ver_win_rate  \\\n",
       "0          1.0  /Quezon City/Philippines            AS              0.066667   \n",
       "1          1.0        /PH-00/Philippines            AS              0.066667   \n",
       "2          1.0           /Kolkata /India            AS              0.088889   \n",
       "3          1.0        /Bhubaneswar/India            AS              0.088889   \n",
       "4          1.0          /Hyderabad/India            AS              0.088889   \n",
       "\n",
       "   customer_idx          customer_type  enterprise  historical_existing_cnt  \\\n",
       "0         32160           End-Customer  Enterprise                      NaN   \n",
       "1         23122           End-Customer  Enterprise                     12.0   \n",
       "2          1755           End-Customer  Enterprise                    144.0   \n",
       "3          4919           End-Customer  Enterprise                      NaN   \n",
       "4         17126  Specifier/ Influencer  Enterprise                      NaN   \n",
       "\n",
       "   id_strategic_ver  it_strategic_ver  ...  response_corporate  \\\n",
       "0               NaN               NaN  ...               LGEPH   \n",
       "1               NaN               NaN  ...               LGEPH   \n",
       "2               NaN               NaN  ...               LGEIL   \n",
       "3               NaN               NaN  ...               LGEIL   \n",
       "4               NaN               NaN  ...               LGEIL   \n",
       "\n",
       "    expected_timeline  ver_cus ver_pro ver_win_rate_x ver_win_ratio_per_bu  \\\n",
       "0  less than 3 months        1       0       0.003079             0.026846   \n",
       "1  less than 3 months        1       0       0.003079             0.026846   \n",
       "2  less than 3 months        1       0       0.003079             0.026846   \n",
       "3  less than 3 months        1       0       0.003079             0.026846   \n",
       "4  less than 3 months        0       0       0.003079             0.026846   \n",
       "\n",
       "        business_area business_subarea lead_owner is_converted  \n",
       "0  corporate / office      Engineering          0         True  \n",
       "1  corporate / office      Advertising          1         True  \n",
       "2  corporate / office     Construction          2         True  \n",
       "3  corporate / office      IT/Software          3         True  \n",
       "4  corporate / office              NaN          4         True  \n",
       "\n",
       "[5 rows x 29 columns]"
      ]
     },
     "execution_count": 175,
     "metadata": {},
     "output_type": "execute_result"
    }
   ],
   "source": [
    "df_train.head() # 학습용 데이터 살펴보기"
   ]
  },
  {
   "cell_type": "markdown",
   "id": "af526c13",
   "metadata": {},
   "source": [
    "## 2. 데이터 전처리"
   ]
  },
  {
   "cell_type": "code",
   "execution_count": 176,
   "id": "cd64b902",
   "metadata": {},
   "outputs": [
    {
     "name": "stdout",
     "output_type": "stream",
     "text": [
      "(59299, 29) (5271, 30)\n"
     ]
    }
   ],
   "source": [
    "print(df_train.shape, df_test.shape)"
   ]
  },
  {
   "cell_type": "markdown",
   "id": "2f978109",
   "metadata": {},
   "source": [
    "### 무조건 converted하면서 test에 없는 회사인 25096은 삭제"
   ]
  },
  {
   "cell_type": "code",
   "execution_count": 177,
   "id": "e7152bcb",
   "metadata": {},
   "outputs": [],
   "source": [
    "del_id=[25096]\n",
    "df_train=df_train[~df_train[\"customer_idx\"].isin(del_id)]\n",
    "df_train = df_train[(df_train[\"business_unit\"] != \"CM\") & (df_train[\"business_unit\"] != \"Solution\")]"
   ]
  },
  {
   "cell_type": "markdown",
   "id": "0c15e60d",
   "metadata": {},
   "source": [
    "### 문의를 한 횟수, 문의하면서 converted 한 횟수, converted한 비율을 회사별로 계산"
   ]
  },
  {
   "cell_type": "code",
   "execution_count": 178,
   "id": "2a39db10",
   "metadata": {},
   "outputs": [],
   "source": [
    "df_cus = df_train.groupby(\"customer_idx\")[\"is_converted\"].count().reset_index()\n",
    "df_real_cus = df_train.groupby(\"customer_idx\")[\"is_converted\"].sum().reset_index()\n",
    "df = pd.merge(df_cus, df_real_cus, on=\"customer_idx\")\n",
    "df[\"ratio\"] = df[\"is_converted_y\"] / df[\"is_converted_x\"]\n",
    "df = df.rename(columns={\"is_converted_x\": \"query_cnt\", \"is_converted_y\" : \"converted_cnt\"})\n",
    "df = df[df[\"query_cnt\"]>=4] \n",
    "df_train = pd.merge(df_train, df, on='customer_idx', how=\"left\")\n",
    "df_test = pd.merge(df_test, df, on='customer_idx', how=\"left\")"
   ]
  },
  {
   "cell_type": "markdown",
   "id": "4bd47e00",
   "metadata": {},
   "source": [
    "### 레이블 인코딩"
   ]
  },
  {
   "cell_type": "code",
   "execution_count": 179,
   "id": "0b42b1a1",
   "metadata": {},
   "outputs": [],
   "source": [
    "def label_encoding(series: pd.Series) -> pd.Series:\n",
    "    \"\"\"범주형 데이터를 시리즈 형태로 받아 숫자형 데이터로 변환합니다.\"\"\"\n",
    "\n",
    "    my_dict = {}\n",
    "\n",
    "    # 모든 요소를 문자열로 변환\n",
    "    series = series.astype(str)\n",
    "\n",
    "    for idx, value in enumerate(sorted(series.unique())):\n",
    "        my_dict[value] = idx\n",
    "    series = series.map(my_dict)\n",
    "\n",
    "    return series"
   ]
  },
  {
   "cell_type": "code",
   "execution_count": 180,
   "id": "881a4612",
   "metadata": {},
   "outputs": [],
   "source": [
    "# 레이블 인코딩할 칼럼들\n",
    "label_columns = [\n",
    "    \"customer_country\",\n",
    "    \"business_subarea\",\n",
    "    \"business_area\",\n",
    "    \"business_unit\",\n",
    "    \"customer_type\",\n",
    "    # \"enterprise\",\n",
    "    \"customer_job\",\n",
    "    \"inquiry_type\",\n",
    "    \"product_category\",\n",
    "    \"product_subcategory\",\n",
    "    \"product_modelname\",\n",
    "    \"customer_country.1\",\n",
    "    \"customer_position\",\n",
    "    \"response_corporate\",\n",
    "    \"expected_timeline\",\n",
    "]\n",
    "\n",
    "#원핫 인코딩할 칼럼들\n",
    "one_hot_columns=[\n",
    "    # \"customer_country\",\n",
    "    # \"business_subarea\",\n",
    "    # \"business_area\",\n",
    "    # \"business_unit\",\n",
    "    # \"customer_type\",\n",
    "    \"enterprise\",\n",
    "    # \"customer_job\",\n",
    "    # \"inquiry_type\",\n",
    "    # \"product_category\",\n",
    "    # \"product_subcategory\",\n",
    "    # \"product_modelname\",\n",
    "    # \"customer_country.1\",\n",
    "    # \"customer_position\",\n",
    "    # \"response_corporate\",\n",
    "    # \"expected_timeline\",    \n",
    "]\n",
    "\n",
    "df_all = pd.concat([df_train, df_test])\n",
    "\n",
    "for col in label_columns:\n",
    "    df_all[col] = label_encoding(df_all[col])\n",
    "    \n",
    "df_all = pd.get_dummies(df_all, columns=one_hot_columns)"
   ]
  },
  {
   "cell_type": "code",
   "execution_count": 181,
   "id": "24b703d9",
   "metadata": {},
   "outputs": [],
   "source": [
    "# \"com_reg_ver_win_rate\""
   ]
  },
  {
   "cell_type": "code",
   "execution_count": 182,
   "id": "4d4377e9",
   "metadata": {},
   "outputs": [],
   "source": [
    "drop_columns=[ \n",
    "              \"id_strategic_ver\", \n",
    "              \"it_strategic_ver\", \n",
    "              \"idit_strategic_ver\",\n",
    "              \"ver_cus\",\n",
    "              \"ver_pro\", \n",
    "              \"ver_win_rate_x\", \n",
    "              \"ver_win_ratio_per_bu\",\n",
    "              \"expected_timeline\",\n",
    "              \"com_reg_ver_win_rate\"\n",
    "              ]\n",
    "\n",
    "for column in drop_columns:\n",
    "    df_all.drop(columns=column, inplace=True)"
   ]
  },
  {
   "cell_type": "markdown",
   "id": "3a477f93",
   "metadata": {},
   "source": [
    "다시 학습 데이터와 제출 데이터를 분리합니다."
   ]
  },
  {
   "cell_type": "code",
   "execution_count": 183,
   "id": "ff10c5fb",
   "metadata": {},
   "outputs": [],
   "source": [
    "df_train = df_all.iloc[: len(df_train)]\n",
    "df_test = df_all.iloc[len(df_train) :]"
   ]
  },
  {
   "cell_type": "code",
   "execution_count": 184,
   "id": "88cd43cf",
   "metadata": {},
   "outputs": [],
   "source": [
    "df_train = df_train.fillna(0)\n",
    "df_test = df_test.fillna(0)"
   ]
  },
  {
   "cell_type": "code",
   "execution_count": 185,
   "id": "f429b824",
   "metadata": {},
   "outputs": [],
   "source": [
    "df_train=df_train.drop(columns=\"id\")"
   ]
  },
  {
   "cell_type": "code",
   "execution_count": 186,
   "id": "ed33b6f0",
   "metadata": {},
   "outputs": [
    {
     "data": {
      "text/plain": [
       "(56582, 24)"
      ]
     },
     "execution_count": 186,
     "metadata": {},
     "output_type": "execute_result"
    }
   ],
   "source": [
    "df_train.shape"
   ]
  },
  {
   "cell_type": "code",
   "execution_count": 187,
   "id": "191d2065",
   "metadata": {},
   "outputs": [],
   "source": [
    "X_train= df_train.drop(\"is_converted\", axis=1)\n",
    "y_train= df_train[\"is_converted\"]\n",
    "X_test = df_test.drop([\"is_converted\", \"id\"], axis=1)"
   ]
  },
  {
   "cell_type": "code",
   "execution_count": 188,
   "id": "581b7c95",
   "metadata": {},
   "outputs": [],
   "source": [
    "X_train.reset_index(drop=True, inplace=True)\n",
    "y_train.reset_index(drop=True, inplace=True)"
   ]
  },
  {
   "cell_type": "markdown",
   "id": "79ecfa9b",
   "metadata": {},
   "source": [
    "## 3. 모델 학습"
   ]
  },
  {
   "cell_type": "markdown",
   "id": "3caf257b",
   "metadata": {},
   "source": [
    "### 모델 정의 "
   ]
  },
  {
   "cell_type": "code",
   "execution_count": 189,
   "id": "881e7ad9",
   "metadata": {},
   "outputs": [],
   "source": [
    "params={\n",
    "    'objective': 'binary',\n",
    "    'learning_rate':0.01,\n",
    "    \"random_state\":0\n",
    "}"
   ]
  },
  {
   "cell_type": "code",
   "execution_count": 190,
   "id": "b6314b37",
   "metadata": {},
   "outputs": [],
   "source": [
    "from lightgbm import LGBMClassifier\n",
    "from catboost import CatBoostClassifier\n",
    "from xgboost import XGBClassifier\n",
    "from sklearn.neural_network import MLPClassifier\n",
    "\n",
    "# model = DecisionTreeClassifier(random_state=0)\n",
    "model = LGBMClassifier(**params)\n",
    "# model = XGBClassifier(random_state=0)\n",
    "# model = MLPClassifier(random_state=0)"
   ]
  },
  {
   "cell_type": "markdown",
   "id": "06bf0407",
   "metadata": {},
   "source": [
    "## 베이스라인 모델 학"
   ]
  },
  {
   "cell_type": "code",
   "execution_count": 198,
   "id": "dbb6ca94",
   "metadata": {},
   "outputs": [
    {
     "name": "stdout",
     "output_type": "stream",
     "text": [
      "######################################## 폴드1 / 폴드5 ########################################\n",
      "[LightGBM] [Info] Number of positive: 1942, number of negative: 43323\n",
      "[LightGBM] [Info] Auto-choosing row-wise multi-threading, the overhead of testing was 0.001288 seconds.\n",
      "You can set `force_row_wise=true` to remove the overhead.\n",
      "And if memory is not enough, you can set `force_col_wise=true`.\n",
      "[LightGBM] [Info] Total Bins 2422\n",
      "[LightGBM] [Info] Number of data points in the train set: 45265, number of used features: 23\n",
      "[LightGBM] [Info] [binary:BoostFromScore]: pavg=0.042903 -> initscore=-3.104965\n",
      "[LightGBM] [Info] Start training from score -3.104965\n",
      "Training until validation scores don't improve for 100 rounds\n",
      "Did not meet early stopping. Best iteration is:\n",
      "[1000]\tvalid_0's binary_logloss: 0.073377\tvalid_0's f1: 0.544715\n",
      "폴드 1 f1 score: 0.5447154471544715\n",
      "\n",
      "######################################## 폴드2 / 폴드5 ########################################\n",
      "[LightGBM] [Info] Number of positive: 1942, number of negative: 43323\n",
      "[LightGBM] [Info] Auto-choosing row-wise multi-threading, the overhead of testing was 0.001425 seconds.\n",
      "You can set `force_row_wise=true` to remove the overhead.\n",
      "And if memory is not enough, you can set `force_col_wise=true`.\n",
      "[LightGBM] [Info] Total Bins 2426\n",
      "[LightGBM] [Info] Number of data points in the train set: 45265, number of used features: 23\n",
      "[LightGBM] [Info] [binary:BoostFromScore]: pavg=0.042903 -> initscore=-3.104965\n",
      "[LightGBM] [Info] Start training from score -3.104965\n",
      "Training until validation scores don't improve for 100 rounds\n",
      "Did not meet early stopping. Best iteration is:\n",
      "[1000]\tvalid_0's binary_logloss: 0.0762407\tvalid_0's f1: 0.52573\n",
      "폴드 2 f1 score: 0.525730180806676\n",
      "\n",
      "######################################## 폴드3 / 폴드5 ########################################\n",
      "[LightGBM] [Info] Number of positive: 1942, number of negative: 43324\n",
      "[LightGBM] [Info] Auto-choosing row-wise multi-threading, the overhead of testing was 0.001463 seconds.\n",
      "You can set `force_row_wise=true` to remove the overhead.\n",
      "And if memory is not enough, you can set `force_col_wise=true`.\n",
      "[LightGBM] [Info] Total Bins 2423\n",
      "[LightGBM] [Info] Number of data points in the train set: 45266, number of used features: 23\n",
      "[LightGBM] [Info] [binary:BoostFromScore]: pavg=0.042902 -> initscore=-3.104988\n",
      "[LightGBM] [Info] Start training from score -3.104988\n",
      "Training until validation scores don't improve for 100 rounds\n",
      "Did not meet early stopping. Best iteration is:\n",
      "[999]\tvalid_0's binary_logloss: 0.0718212\tvalid_0's f1: 0.568783\n",
      "폴드 3 f1 score: 0.5687830687830687\n",
      "\n",
      "######################################## 폴드4 / 폴드5 ########################################\n",
      "[LightGBM] [Info] Number of positive: 1943, number of negative: 43323\n",
      "[LightGBM] [Info] Auto-choosing row-wise multi-threading, the overhead of testing was 0.001451 seconds.\n",
      "You can set `force_row_wise=true` to remove the overhead.\n",
      "And if memory is not enough, you can set `force_col_wise=true`.\n",
      "[LightGBM] [Info] Total Bins 2414\n",
      "[LightGBM] [Info] Number of data points in the train set: 45266, number of used features: 23\n",
      "[LightGBM] [Info] [binary:BoostFromScore]: pavg=0.042924 -> initscore=-3.104451\n",
      "[LightGBM] [Info] Start training from score -3.104451\n",
      "Training until validation scores don't improve for 100 rounds\n",
      "Did not meet early stopping. Best iteration is:\n",
      "[1000]\tvalid_0's binary_logloss: 0.0705919\tvalid_0's f1: 0.600262\n",
      "폴드 4 f1 score: 0.6002621231979031\n",
      "\n",
      "######################################## 폴드5 / 폴드5 ########################################\n",
      "[LightGBM] [Info] Number of positive: 1943, number of negative: 43323\n",
      "[LightGBM] [Info] Auto-choosing row-wise multi-threading, the overhead of testing was 0.001111 seconds.\n",
      "You can set `force_row_wise=true` to remove the overhead.\n",
      "And if memory is not enough, you can set `force_col_wise=true`.\n",
      "[LightGBM] [Info] Total Bins 2430\n",
      "[LightGBM] [Info] Number of data points in the train set: 45266, number of used features: 23\n",
      "[LightGBM] [Info] [binary:BoostFromScore]: pavg=0.042924 -> initscore=-3.104451\n",
      "[LightGBM] [Info] Start training from score -3.104451\n",
      "Training until validation scores don't improve for 100 rounds\n",
      "Did not meet early stopping. Best iteration is:\n",
      "[1000]\tvalid_0's binary_logloss: 0.0703711\tvalid_0's f1: 0.539726\n",
      "폴드 5 f1 score: 0.5397260273972603\n",
      "\n",
      "검증 평균 f1 score: 0.5558433694678759\n"
     ]
    }
   ],
   "source": [
    "from sklearn. model_selection import StratifiedKFold\n",
    "import lightgbm as lgb\n",
    "from sklearn.metrics import f1_score\n",
    "\n",
    "folds = StratifiedKFold(n_splits=5, shuffle=True, random_state=0)\n",
    "\n",
    "oof_val_preds = np.zeros(X_train.shape[0])\n",
    "oof_test_preds = np.zeros(X_test.shape[0])\n",
    "\n",
    "def f1score(preds, d_train):\n",
    "    labels = d_train.get_label()\n",
    "    return 'f1', f1_score(labels, np.round(preds)), True\n",
    "\n",
    "params={\n",
    "    'objective': 'binary',\n",
    "    'learning_rate':0.01,\n",
    "    \"random_state\":0,\n",
    "    \"early_stopping_rounds\":100\n",
    "}\n",
    "\n",
    "f1_score_list=[]\n",
    "feature_importance_list=[]\n",
    "\n",
    "for idx, (train_idx, valid_idx) in enumerate(folds.split(X_train, y_train)):\n",
    "    print('#'*40, f'폴드{idx+1} / 폴드{folds.n_splits}', \"#\"*40)\n",
    "    X_tr, y_tr = X_train.iloc[train_idx], y_train.iloc[train_idx]\n",
    "    X_val, y_val = X_train.iloc[valid_idx], y_train.iloc[valid_idx]\n",
    "    \n",
    "    d_train = lgb.Dataset(X_tr, y_tr)\n",
    "    d_valid = lgb.Dataset(X_val, y_val)\n",
    "    \n",
    "    lgb_model = lgb.train(params=params,\n",
    "                          train_set=d_train,\n",
    "                          num_boost_round=1000,\n",
    "                          valid_sets=d_valid,\n",
    "                          feval=f1score)\n",
    "    \n",
    "    oof_test_preds += lgb_model.predict(X_test) / folds.get_n_splits()\n",
    "    oof_val_preds[valid_idx] += lgb_model.predict(X_val)\n",
    "    \n",
    "    f1 = f1_score(y_val, np.round(oof_val_preds[valid_idx]))\n",
    "    f1_score_list.append(f1)\n",
    "    print(f'폴드 {idx+1} f1 score: {f1}\\n')\n",
    "    \n",
    "    feature_importance_list.append(lgb_model.feature_importance())\n",
    "    \n",
    "print(f'검증 평균 f1 score: {np.mean(f1_score_list)}')\n",
    "# 검증 평균 f1 score: 0.5558433694678759"
   ]
  },
  {
   "cell_type": "code",
   "execution_count": 207,
   "id": "09872b56",
   "metadata": {},
   "outputs": [
    {
     "data": {
      "image/png": "[encoded data removed]",
      "text/plain": [
       "<Figure size 1000x600 with 1 Axes>"
      ]
     },
     "metadata": {},
     "output_type": "display_data"
    }
   ],
   "source": [
    "import numpy as np\n",
    "import matplotlib.pyplot as plt\n",
    "\n",
    "# 특징 중요도와 특징 이름을 정렬\n",
    "sorted_indices = np.argsort(-np.mean(feature_importance_list, axis=0))[::-1]\n",
    "sorted_feature_names = [lgb_model.feature_name()[i] for i in sorted_indices]\n",
    "sorted_mean_importance = np.mean(feature_importance_list, axis=0)[sorted_indices]\n",
    "\n",
    "# 바 차트 그리기\n",
    "plt.figure(figsize=(10, 6))\n",
    "plt.barh(sorted_feature_names, sorted_mean_importance)\n",
    "plt.xlabel('Mean Importance')\n",
    "plt.ylabel('Features')\n",
    "plt.title('Mean Feature Importance')\n",
    "plt.show()"
   ]
  },
  {
   "cell_type": "markdown",
   "id": "9d0b6e17",
   "metadata": {},
   "source": [
    "### 테스트 데이터 예측"
   ]
  },
  {
   "cell_type": "code",
   "execution_count": 212,
   "id": "43daa73c",
   "metadata": {},
   "outputs": [],
   "source": [
    "# 예측에 필요한 데이터 분리\n",
    "test_pred = np.where(oof_test_preds >= 0.5, 1, 0)"
   ]
  },
  {
   "cell_type": "code",
   "execution_count": 213,
   "id": "d13f7a6e",
   "metadata": {},
   "outputs": [
    {
     "data": {
      "text/plain": [
       "367"
      ]
     },
     "execution_count": 213,
     "metadata": {},
     "output_type": "execute_result"
    }
   ],
   "source": [
    "sum(test_pred) # True로 예측된 개수"
   ]
  },
  {
   "cell_type": "markdown",
   "id": "7adf8300",
   "metadata": {},
   "source": [
    "## 4. 제출하기"
   ]
  },
  {
   "cell_type": "markdown",
   "id": "47f18e6a",
   "metadata": {},
   "source": [
    "### 제출 파일 작성"
   ]
  },
  {
   "cell_type": "code",
   "execution_count": 194,
   "id": "11eb7117",
   "metadata": {},
   "outputs": [],
   "source": [
    "df_test[\"is_converted\"] = test_pred"
   ]
  },
  {
   "cell_type": "code",
   "execution_count": 195,
   "id": "3128a458",
   "metadata": {},
   "outputs": [],
   "source": [
    "# 제출 데이터 읽어오기 (df_test는 전처리된 데이터가 저장됨)\n",
    "df_sub = pd.read_csv(\"submission.csv\")\n",
    "df_sub[\"is_converted\"]=df_test[\"is_converted\"]\n",
    "\n",
    "# 제출 파일 저장\n",
    "df_sub.to_csv(\"submission.csv\", index=False)"
   ]
  },
  {
   "cell_type": "markdown",
   "id": "ec7867ce",
   "metadata": {},
   "source": [
    "**우측 상단의 제출 버튼을 클릭해 결과를 확인하세요**"
   ]
  }
 ],
 "metadata": {
  "kernelspec": {
   "display_name": "Python 3 (ipykernel)",
   "language": "python",
   "name": "python3"
  },
  "language_info": {
   "codemirror_mode": {
    "name": "ipython",
    "version": 3
   },
   "file_extension": ".py",
   "mimetype": "text/x-python",
   "name": "python",
   "nbconvert_exporter": "python",
   "pygments_lexer": "ipython3",
   "version": "3.11.5"
  }
 },
 "nbformat": 4,
 "nbformat_minor": 5
}
