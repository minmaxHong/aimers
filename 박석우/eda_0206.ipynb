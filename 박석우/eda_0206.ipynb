{
 "cells": [
  {
   "cell_type": "code",
   "execution_count": 111,
   "metadata": {},
   "outputs": [],
   "source": [
    "import pandas as pd\n",
    "import numpy as np\n",
    "from sklearn.metrics import (\n",
    "    accuracy_score,\n",
    "    confusion_matrix,\n",
    "    f1_score,\n",
    "    precision_score,\n",
    "    recall_score,\n",
    ")\n",
    "from sklearn.model_selection import train_test_split\n",
    "from sklearn.tree import DecisionTreeClassifier"
   ]
  },
  {
   "cell_type": "code",
   "execution_count": 112,
   "metadata": {},
   "outputs": [],
   "source": [
    "df_train = pd.read_csv(\"train.csv\") # 학습용 데이터\n",
    "df_test = pd.read_csv(\"submission.csv\") # 테스트 데이터(제출파일의 데이터)"
   ]
  },
  {
   "cell_type": "code",
   "execution_count": 113,
   "metadata": {},
   "outputs": [
    {
     "name": "stdout",
     "output_type": "stream",
     "text": [
      "(59299, 29)\n",
      "(5271, 30)\n"
     ]
    }
   ],
   "source": [
    "print(df_train.shape)\n",
    "print(df_test.shape)"
   ]
  },
  {
   "cell_type": "code",
   "execution_count": 114,
   "metadata": {},
   "outputs": [
    {
     "data": {
      "text/plain": [
       "Index(['bant_submit', 'customer_country', 'business_unit',\n",
       "       'com_reg_ver_win_rate', 'customer_idx', 'customer_type', 'enterprise',\n",
       "       'historical_existing_cnt', 'id_strategic_ver', 'it_strategic_ver',\n",
       "       'idit_strategic_ver', 'customer_job', 'lead_desc_length',\n",
       "       'inquiry_type', 'product_category', 'product_subcategory',\n",
       "       'product_modelname', 'customer_country.1', 'customer_position',\n",
       "       'response_corporate', 'expected_timeline', 'ver_cus', 'ver_pro',\n",
       "       'ver_win_rate_x', 'ver_win_ratio_per_bu', 'business_area',\n",
       "       'business_subarea', 'lead_owner', 'is_converted'],\n",
       "      dtype='object')"
      ]
     },
     "execution_count": 114,
     "metadata": {},
     "output_type": "execute_result"
    }
   ],
   "source": [
    "df_train.columns"
   ]
  },
  {
   "cell_type": "code",
   "execution_count": 115,
   "metadata": {},
   "outputs": [],
   "source": [
    "df_train=df_train[df_train[\"customer_idx\"]!=25096]"
   ]
  },
  {
   "cell_type": "code",
   "execution_count": 116,
   "metadata": {},
   "outputs": [],
   "source": [
    "df_train = df_train[(df_train[\"business_unit\"] != \"CM\") & (df_train[\"business_unit\"] != \"Solution\")]"
   ]
  },
  {
   "cell_type": "code",
   "execution_count": 117,
   "metadata": {},
   "outputs": [
    {
     "data": {
      "text/plain": [
       "(56582, 29)"
      ]
     },
     "execution_count": 117,
     "metadata": {},
     "output_type": "execute_result"
    }
   ],
   "source": [
    "df_train.shape"
   ]
  },
  {
   "cell_type": "code",
   "execution_count": 118,
   "metadata": {},
   "outputs": [
    {
     "data": {
      "text/plain": [
       "is_converted\n",
       "False    54154\n",
       "True      2428\n",
       "Name: count, dtype: int64"
      ]
     },
     "execution_count": 118,
     "metadata": {},
     "output_type": "execute_result"
    }
   ],
   "source": [
    "df_train[\"is_converted\"].value_counts()"
   ]
  },
  {
   "cell_type": "code",
   "execution_count": 119,
   "metadata": {},
   "outputs": [
    {
     "name": "stdout",
     "output_type": "stream",
     "text": [
      "<class 'pandas.core.frame.DataFrame'>\n",
      "Index: 56582 entries, 0 to 59297\n",
      "Data columns (total 29 columns):\n",
      " #   Column                   Non-Null Count  Dtype  \n",
      "---  ------                   --------------  -----  \n",
      " 0   bant_submit              56582 non-null  float64\n",
      " 1   customer_country         55691 non-null  object \n",
      " 2   business_unit            56582 non-null  object \n",
      " 3   com_reg_ver_win_rate     14525 non-null  float64\n",
      " 4   customer_idx             56582 non-null  int64  \n",
      " 5   customer_type            15337 non-null  object \n",
      " 6   enterprise               56582 non-null  object \n",
      " 7   historical_existing_cnt  13682 non-null  float64\n",
      " 8   id_strategic_ver         3433 non-null   float64\n",
      " 9   it_strategic_ver         1121 non-null   float64\n",
      " 10  idit_strategic_ver       4554 non-null   float64\n",
      " 11  customer_job             38408 non-null  object \n",
      " 12  lead_desc_length         56582 non-null  int64  \n",
      " 13  inquiry_type             55719 non-null  object \n",
      " 14  product_category         37420 non-null  object \n",
      " 15  product_subcategory      8413 non-null   object \n",
      " 16  product_modelname        8516 non-null   object \n",
      " 17  customer_country.1       55691 non-null  object \n",
      " 18  customer_position        56582 non-null  object \n",
      " 19  response_corporate       56582 non-null  object \n",
      " 20  expected_timeline        26785 non-null  object \n",
      " 21  ver_cus                  56582 non-null  int64  \n",
      " 22  ver_pro                  56582 non-null  int64  \n",
      " 23  ver_win_rate_x           18185 non-null  float64\n",
      " 24  ver_win_ratio_per_bu     15233 non-null  float64\n",
      " 25  business_area            18185 non-null  object \n",
      " 26  business_subarea         5525 non-null   object \n",
      " 27  lead_owner               56582 non-null  int64  \n",
      " 28  is_converted             56582 non-null  bool   \n",
      "dtypes: bool(1), float64(8), int64(5), object(15)\n",
      "memory usage: 12.6+ MB\n"
     ]
    }
   ],
   "source": [
    "df_train.info()"
   ]
  },
  {
   "cell_type": "markdown",
   "metadata": {},
   "source": [
    "## 컬럼별 음미"
   ]
  },
  {
   "cell_type": "markdown",
   "metadata": {},
   "source": [
    "### 1. bant_submit"
   ]
  },
  {
   "cell_type": "code",
   "execution_count": 120,
   "metadata": {},
   "outputs": [
    {
     "data": {
      "text/plain": [
       "array([0.29330883, 0.28563854, 0.22051182, 0.19257008, 0.00797073])"
      ]
     },
     "execution_count": 120,
     "metadata": {},
     "output_type": "execute_result"
    }
   ],
   "source": [
    "np.array(df_train[\"bant_submit\"].value_counts())/df_train.shape[0]"
   ]
  },
  {
   "cell_type": "code",
   "execution_count": 121,
   "metadata": {},
   "outputs": [
    {
     "data": {
      "text/plain": [
       "array([0.39271485, 0.28874976, 0.12654145, 0.10339594, 0.08859799])"
      ]
     },
     "execution_count": 121,
     "metadata": {},
     "output_type": "execute_result"
    }
   ],
   "source": [
    "np.array(df_test[\"bant_submit\"].value_counts())/df_test.shape[0]"
   ]
  },
  {
   "cell_type": "code",
   "execution_count": 122,
   "metadata": {},
   "outputs": [
    {
     "data": {
      "text/plain": [
       "bant_submit\n",
       "0.50    16596\n",
       "1.00    16162\n",
       "0.25    12477\n",
       "0.75    10896\n",
       "0.00      451\n",
       "Name: count, dtype: int64"
      ]
     },
     "execution_count": 122,
     "metadata": {},
     "output_type": "execute_result"
    }
   ],
   "source": [
    "df_train[\"bant_submit\"].value_counts()"
   ]
  },
  {
   "cell_type": "code",
   "execution_count": 123,
   "metadata": {},
   "outputs": [
    {
     "data": {
      "text/plain": [
       "bant_submit\n",
       "1.00    2070\n",
       "0.25    1522\n",
       "0.50     667\n",
       "0.75     545\n",
       "0.00     467\n",
       "Name: count, dtype: int64"
      ]
     },
     "execution_count": 123,
     "metadata": {},
     "output_type": "execute_result"
    }
   ],
   "source": [
    "df_test[\"bant_submit\"].value_counts()"
   ]
  },
  {
   "cell_type": "code",
   "execution_count": 124,
   "metadata": {},
   "outputs": [
    {
     "data": {
      "image/png": "[encoded data removed]",
      "text/plain": [
       "<Figure size 1000x500 with 1 Axes>"
      ]
     },
     "metadata": {},
     "output_type": "display_data"
    }
   ],
   "source": [
    "import seaborn as sns\n",
    "import matplotlib.pyplot as plt\n",
    "\n",
    "# 'bant_submit'에 대한 각 카테고리의 개수를 'is_converted'에 따라 나누어 countplot 그리기\n",
    "plt.figure(figsize=(10, 5))\n",
    "ax = sns.countplot(x='bant_submit', hue='is_converted', data=df_train)\n",
    "\n",
    "# 각 막대 위에 count를 표시\n",
    "for p in ax.patches:\n",
    "    ax.annotate(f'{p.get_height()}', (p.get_x() + p.get_width() / 2., p.get_height()),\n",
    "                ha='center', va='center', fontsize=10, color='black', xytext=(0, 5),\n",
    "                textcoords='offset points')\n",
    "\n",
    "plt.title('Countplot of bant_submit with is_converted')\n",
    "plt.show()"
   ]
  },
  {
   "cell_type": "code",
   "execution_count": 125,
   "metadata": {},
   "outputs": [
    {
     "name": "stdout",
     "output_type": "stream",
     "text": [
      "Correlation between 'bant_submit' and 'is_converted': -0.030143135763306055\n"
     ]
    }
   ],
   "source": [
    "correlation_value = df_train['bant_submit'].corr(df_train['is_converted'])\n",
    "print(f\"Correlation between 'bant_submit' and 'is_converted': {correlation_value}\")"
   ]
  },
  {
   "cell_type": "markdown",
   "metadata": {},
   "source": [
    "### customer_country"
   ]
  },
  {
   "cell_type": "code",
   "execution_count": 126,
   "metadata": {},
   "outputs": [
    {
     "data": {
      "text/plain": [
       "customer_country\n",
       "//India                     2904\n",
       "/São Paulo/Brazil           1315\n",
       "//United States              962\n",
       "//United Kingdom             796\n",
       "//Italy                      704\n",
       "                            ... \n",
       "/Partur/India                  1\n",
       "/Suri/India                    1\n",
       "Infinity_elec@yahoo.com        1\n",
       "bahaa.creative@gmail.com       1\n",
       "/santa cruz bolivia/Peru       1\n",
       "Name: count, Length: 14852, dtype: int64"
      ]
     },
     "execution_count": 126,
     "metadata": {},
     "output_type": "execute_result"
    }
   ],
   "source": [
    "df_train[\"customer_country\"].value_counts()"
   ]
  },
  {
   "cell_type": "code",
   "execution_count": 127,
   "metadata": {},
   "outputs": [
    {
     "data": {
      "text/plain": [
       "14852"
      ]
     },
     "execution_count": 127,
     "metadata": {},
     "output_type": "execute_result"
    }
   ],
   "source": [
    "df_train[\"customer_country\"].nunique()"
   ]
  },
  {
   "cell_type": "code",
   "execution_count": 128,
   "metadata": {},
   "outputs": [
    {
     "data": {
      "text/plain": [
       "customer_country\n",
       "/  / Peru                           184\n",
       "//United States                     160\n",
       "Corporate /  /                      135\n",
       "/  / Brazil                         132\n",
       "/  / India                          116\n",
       "                                   ... \n",
       "/ São Paulo/ Guarujá / Brazil         1\n",
       "/ New York  / United States           1\n",
       "/ Cortes / Honduras                   1\n",
       "1233 20th St NW   / Washington /      1\n",
       "/ Ongole  / India                     1\n",
       "Name: count, Length: 2467, dtype: int64"
      ]
     },
     "execution_count": 128,
     "metadata": {},
     "output_type": "execute_result"
    }
   ],
   "source": [
    "df_test[\"customer_country\"].value_counts()"
   ]
  },
  {
   "cell_type": "markdown",
   "metadata": {},
   "source": [
    "### 3. business_unit"
   ]
  },
  {
   "cell_type": "code",
   "execution_count": 129,
   "metadata": {},
   "outputs": [
    {
     "data": {
      "text/plain": [
       "business_unit\n",
       "ID    24104\n",
       "AS    23889\n",
       "IT     8589\n",
       "Name: count, dtype: int64"
      ]
     },
     "metadata": {},
     "output_type": "display_data"
    },
    {
     "data": {
      "text/plain": [
       "business_unit\n",
       "AS    2410\n",
       "ID    2342\n",
       "IT     519\n",
       "Name: count, dtype: int64"
      ]
     },
     "metadata": {},
     "output_type": "display_data"
    },
    {
     "data": {
      "text/plain": [
       "array([0.4260012 , 0.42220141, 0.15179739])"
      ]
     },
     "metadata": {},
     "output_type": "display_data"
    },
    {
     "data": {
      "text/plain": [
       "array([0.45721874, 0.44431797, 0.09846329])"
      ]
     },
     "metadata": {},
     "output_type": "display_data"
    }
   ],
   "source": [
    "display(df_train[\"business_unit\"].value_counts())\n",
    "display(df_test[\"business_unit\"].value_counts())\n",
    "display(np.array(df_train[\"business_unit\"].value_counts())/df_train.shape[0])\n",
    "display(np.array(df_test[\"business_unit\"].value_counts())/df_test.shape[0])"
   ]
  },
  {
   "cell_type": "code",
   "execution_count": 130,
   "metadata": {},
   "outputs": [
    {
     "data": {
      "text/plain": [
       "0.11429478970320478"
      ]
     },
     "execution_count": 130,
     "metadata": {},
     "output_type": "execute_result"
    }
   ],
   "source": [
    "df_train_t=df_train.copy()\n",
    "from sklearn.preprocessing import LabelEncoder\n",
    "\n",
    "# df_train_t의 'business_unit' 열을 레이블 인코딩\n",
    "label_encoder = LabelEncoder()\n",
    "df_train_t['business_unit'] = label_encoder.fit_transform(df_train_t['business_unit'])\n",
    "df_train_t['business_unit'].corr(df_train_t['is_converted'])"
   ]
  },
  {
   "cell_type": "code",
   "execution_count": 131,
   "metadata": {},
   "outputs": [
    {
     "data": {
      "image/png": "[encoded data removed]",
      "text/plain": [
       "<Figure size 1000x500 with 1 Axes>"
      ]
     },
     "metadata": {},
     "output_type": "display_data"
    }
   ],
   "source": [
    "import seaborn as sns\n",
    "import matplotlib.pyplot as plt\n",
    "\n",
    "# 'business_unit'에 대한 각 카테고리의 개수를 'is_converted'에 따라 나누어 countplot 그리기\n",
    "plt.figure(figsize=(10, 5))\n",
    "ax = sns.countplot(x='business_unit', hue='is_converted', data=df_train)\n",
    "\n",
    "# 각 막대 위에 count를 표시\n",
    "for p in ax.patches:\n",
    "    ax.annotate(f'{p.get_height()}', (p.get_x() + p.get_width() / 2., p.get_height()),\n",
    "                ha='center', va='center', fontsize=10, color='black', xytext=(0, 5),\n",
    "                textcoords='offset points')\n",
    "\n",
    "plt.title('Countplot of business_unit with is_converted')\n",
    "plt.show()"
   ]
  },
  {
   "cell_type": "markdown",
   "metadata": {},
   "source": [
    "### 4. com_reg_ver_win_rate"
   ]
  },
  {
   "cell_type": "code",
   "execution_count": 132,
   "metadata": {},
   "outputs": [
    {
     "data": {
      "image/png": "[encoded data removed]",
      "text/plain": [
       "<Figure size 1000x600 with 1 Axes>"
      ]
     },
     "metadata": {},
     "output_type": "display_data"
    }
   ],
   "source": [
    "import seaborn as sns\n",
    "import matplotlib.pyplot as plt\n",
    "\n",
    "# 'com_reg_ver_win_rate' 칼럼의 히스토그램 그리기\n",
    "plt.figure(figsize=(10, 6))\n",
    "sns.histplot(data=df_train, x='com_reg_ver_win_rate', hue='is_converted', bins=80)\n",
    "plt.title('Histogram of com_reg_ver_win_rate with is_converted')\n",
    "plt.xlabel('com_reg_ver_win_rate')\n",
    "plt.ylabel('Frequency')\n",
    "plt.show()"
   ]
  },
  {
   "cell_type": "code",
   "execution_count": 133,
   "metadata": {},
   "outputs": [
    {
     "data": {
      "image/png": "[encoded data removed]",
      "text/plain": [
       "<Figure size 1000x600 with 1 Axes>"
      ]
     },
     "metadata": {},
     "output_type": "display_data"
    }
   ],
   "source": [
    "import seaborn as sns\n",
    "import matplotlib.pyplot as plt\n",
    "\n",
    "# 'com_reg_ver_win_rate' 칼럼의 히스토그램 그리기\n",
    "plt.figure(figsize=(10, 6))\n",
    "sns.histplot(data=df_test, x='com_reg_ver_win_rate', bins=80)\n",
    "plt.title('Histogram of com_reg_ver_win_rate with is_converted')\n",
    "plt.xlabel('com_reg_ver_win_rate')\n",
    "plt.ylabel('Frequency')\n",
    "plt.show()"
   ]
  },
  {
   "cell_type": "markdown",
   "metadata": {},
   "source": [
    "## 5. customer_idx"
   ]
  },
  {
   "cell_type": "code",
   "execution_count": 136,
   "metadata": {},
   "outputs": [],
   "source": [
    "df_cus = df_train.groupby(\"customer_idx\")[\"is_converted\"].count().reset_index()\n",
    "df_real_cus = df_train.groupby(\"customer_idx\")[\"is_converted\"].sum().reset_index()\n",
    "df = pd.merge(df_cus, df_real_cus, on=\"customer_idx\")\n",
    "df[\"ratio\"] = df[\"is_converted_y\"] / df[\"is_converted_x\"]\n",
    "df = df.rename(columns={\"is_converted_x\": \"query_cnt\", \"is_converted_y\" : \"converted_cnt\"})\n",
    "df = df[df[\"query_cnt\"]>=4] \n",
    "df_train = pd.merge(df_train, df, on='customer_idx', how=\"left\")\n",
    "df_test = pd.merge(df_test, df, on='customer_idx', how=\"left\")"
   ]
  },
  {
   "cell_type": "code",
   "execution_count": 137,
   "metadata": {},
   "outputs": [
    {
     "data": {
      "text/html": [
       "<div>\n",
       "<style scoped>\n",
       "    .dataframe tbody tr th:only-of-type {\n",
       "        vertical-align: middle;\n",
       "    }\n",
       "\n",
       "    .dataframe tbody tr th {\n",
       "        vertical-align: top;\n",
       "    }\n",
       "\n",
       "    .dataframe thead th {\n",
       "        text-align: right;\n",
       "    }\n",
       "</style>\n",
       "<table border=\"1\" class=\"dataframe\">\n",
       "  <thead>\n",
       "    <tr style=\"text-align: right;\">\n",
       "      <th></th>\n",
       "      <th>customer_idx</th>\n",
       "      <th>query_cnt</th>\n",
       "      <th>converted_cnt</th>\n",
       "      <th>ratio</th>\n",
       "    </tr>\n",
       "  </thead>\n",
       "  <tbody>\n",
       "    <tr>\n",
       "      <th>30962</th>\n",
       "      <td>42108</td>\n",
       "      <td>19</td>\n",
       "      <td>19</td>\n",
       "      <td>1.0</td>\n",
       "    </tr>\n",
       "    <tr>\n",
       "      <th>6728</th>\n",
       "      <td>9324</td>\n",
       "      <td>14</td>\n",
       "      <td>14</td>\n",
       "      <td>1.0</td>\n",
       "    </tr>\n",
       "    <tr>\n",
       "      <th>7095</th>\n",
       "      <td>9857</td>\n",
       "      <td>11</td>\n",
       "      <td>11</td>\n",
       "      <td>1.0</td>\n",
       "    </tr>\n",
       "    <tr>\n",
       "      <th>6190</th>\n",
       "      <td>8582</td>\n",
       "      <td>10</td>\n",
       "      <td>10</td>\n",
       "      <td>1.0</td>\n",
       "    </tr>\n",
       "    <tr>\n",
       "      <th>13986</th>\n",
       "      <td>19251</td>\n",
       "      <td>8</td>\n",
       "      <td>8</td>\n",
       "      <td>1.0</td>\n",
       "    </tr>\n",
       "    <tr>\n",
       "      <th>...</th>\n",
       "      <td>...</td>\n",
       "      <td>...</td>\n",
       "      <td>...</td>\n",
       "      <td>...</td>\n",
       "    </tr>\n",
       "    <tr>\n",
       "      <th>34520</th>\n",
       "      <td>46908</td>\n",
       "      <td>5</td>\n",
       "      <td>0</td>\n",
       "      <td>0.0</td>\n",
       "    </tr>\n",
       "    <tr>\n",
       "      <th>34522</th>\n",
       "      <td>46914</td>\n",
       "      <td>12</td>\n",
       "      <td>0</td>\n",
       "      <td>0.0</td>\n",
       "    </tr>\n",
       "    <tr>\n",
       "      <th>34552</th>\n",
       "      <td>46991</td>\n",
       "      <td>8</td>\n",
       "      <td>0</td>\n",
       "      <td>0.0</td>\n",
       "    </tr>\n",
       "    <tr>\n",
       "      <th>34648</th>\n",
       "      <td>47125</td>\n",
       "      <td>4</td>\n",
       "      <td>0</td>\n",
       "      <td>0.0</td>\n",
       "    </tr>\n",
       "    <tr>\n",
       "      <th>34846</th>\n",
       "      <td>47435</td>\n",
       "      <td>16</td>\n",
       "      <td>0</td>\n",
       "      <td>0.0</td>\n",
       "    </tr>\n",
       "  </tbody>\n",
       "</table>\n",
       "<p>866 rows × 4 columns</p>\n",
       "</div>"
      ],
      "text/plain": [
       "       customer_idx  query_cnt  converted_cnt  ratio\n",
       "30962         42108         19             19    1.0\n",
       "6728           9324         14             14    1.0\n",
       "7095           9857         11             11    1.0\n",
       "6190           8582         10             10    1.0\n",
       "13986         19251          8              8    1.0\n",
       "...             ...        ...            ...    ...\n",
       "34520         46908          5              0    0.0\n",
       "34522         46914         12              0    0.0\n",
       "34552         46991          8              0    0.0\n",
       "34648         47125          4              0    0.0\n",
       "34846         47435         16              0    0.0\n",
       "\n",
       "[866 rows x 4 columns]"
      ]
     },
     "execution_count": 137,
     "metadata": {},
     "output_type": "execute_result"
    }
   ],
   "source": [
    "pd.set_option(\"display.max_rows\", 30)\n",
    "df = df.sort_values(by=[\"ratio\", \"converted_cnt\"], ascending=False)\n",
    "df"
   ]
  },
  {
   "cell_type": "code",
   "execution_count": null,
   "metadata": {},
   "outputs": [],
   "source": []
  }
 ],
 "metadata": {
  "kernelspec": {
   "display_name": "Python 3",
   "language": "python",
   "name": "python3"
  },
  "language_info": {
   "codemirror_mode": {
    "name": "ipython",
    "version": 3
   },
   "file_extension": ".py",
   "mimetype": "text/x-python",
   "name": "python",
   "nbconvert_exporter": "python",
   "pygments_lexer": "ipython3",
   "version": "3.11.5"
  }
 },
 "nbformat": 4,
 "nbformat_minor": 2
}
